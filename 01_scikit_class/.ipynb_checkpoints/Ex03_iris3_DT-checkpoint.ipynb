{
 "cells": [
  {
   "cell_type": "markdown",
   "metadata": {},
   "source": [
    "## 의사결정나무 (Decision Tree)\n",
    "\n",
    "       (1) 장점\n",
    "            - 만들어진 모델을 쉽게 시각화하여 이해하기 쉽다\n",
    "            - 데이터의 스케일(scale)에 영향을 받지 않아서 특성(feature)의 정규화나 표준화 같은 전처리 과정이 필요없다\n",
    "\n",
    "       (2) 단점\n",
    "            - 사전 가지치기를 사용함에도 과대적합되는 경향이 있어서 일반화 성능이 좋지 않다\n",
    "\n",
    "\n",
    "\n",
    "<img src='./imgs/DT.png'>\n",
    "\n",
    "\n",
    "[예제 ] 붓꽃(Iris) 품종 \n",
    "\n",
    "- 꽃잎(petal)과 꽃받침(sepal)의 폭과 길이를 측정하여 품종을 예측한다\n",
    "- 150개의 데이타에서 3가지 품종(setosa, versicolor, virginica)로 분류한다"
   ]
  },
  {
   "cell_type": "code",
   "execution_count": 1,
   "metadata": {},
   "outputs": [],
   "source": [
    "from sklearn import datasets\n",
    "from sklearn.model_selection import train_test_split\n",
    "from sklearn.preprocessing import StandardScaler\n",
    "import numpy as np"
   ]
  },
  {
   "cell_type": "code",
   "execution_count": 2,
   "metadata": {},
   "outputs": [
    {
     "name": "stdout",
     "output_type": "stream",
     "text": [
      "dict_keys(['data', 'target', 'frame', 'target_names', 'DESCR', 'feature_names', 'filename', 'data_module'])\n"
     ]
    }
   ],
   "source": [
    "# 1. 데이타 로딩\n",
    "\n",
    "iris = datasets.load_iris()\n",
    "\n",
    "# 데이터 key 확인\n",
    "print(iris.keys())\n"
   ]
  },
  {
   "cell_type": "code",
   "execution_count": 7,
   "metadata": {},
   "outputs": [],
   "source": [
    "# 2. 데이터와 레이블 분리 변수 선언\n",
    "x= iris.['data']\n",
    "y= iris.['target']\n",
    "\n",
    "# 3. 데이타셋을 분리 ( 학습용:검증용 = 7:3 )\n",
    "x_train, x_test, y_train, y_test = train_test_split(x,y, test_size=0.3, random_state=0)\n"
   ]
  },
  {
   "cell_type": "code",
   "execution_count": 8,
   "metadata": {},
   "outputs": [],
   "source": [
    "# 5. 트리 모델 생성하고 학습하기\n",
    "\n",
    "from sklearn.tree import DecisionTreeClassifier\n",
    "\n",
    "\n"
   ]
  },
  {
   "cell_type": "code",
   "execution_count": null,
   "metadata": {},
   "outputs": [],
   "source": [
    "# 6. 정확도\n",
    "\n",
    "\n"
   ]
  },
  {
   "cell_type": "markdown",
   "metadata": {},
   "source": [
    "\n",
    "\n",
    "\n",
    "---\n",
    "\n",
    "# 결정트리 시각화"
   ]
  },
  {
   "cell_type": "markdown",
   "metadata": {},
   "source": [
    "[ 참고 ] graphviz 설치\n",
    "\n",
    "    - Graphviz 프로그램 연결하는 라이브러리(??)\n",
    "        > pip install graphviz\n",
    "        \n",
    "\n",
    "    - 직접설치 필요\n",
    "      :  https://graphviz.gitlab.io/_pages/Download/Download_windows.html\n",
    "      \n",
    "      (1) 다운받아 직접 설치\n",
    "           \n",
    "           > Windows > Stable 2.38 Windows install packages > 10 > release >  graphviz-2.38.msi 다운로드 받아 실행\n",
    "\n",
    "      (2) chocolatey를 이용하여 설치\n",
    "      \n",
    "          [참고] window10에 초코라때 설치\n",
    "                1- 먼저 Windows PowerShell (관리자)를 실행합니다.\n",
    "                2- 한줄로 명령 입력 \n",
    "> Set-ExecutionPolicy Bypass -Scope Process -Force; iex ((New-Object System.Net.WebClient).DownloadString('https://chocolatey.org/install.ps1'))  \n",
    "\n",
    "                3- 설치 확인\n",
    "                    > choco -v\n",
    "                \n",
    "                4- choco를 이용하여 설치\n",
    "                    > choco install graphviz\n",
    "                    \n",
    "                5- graphviz 설치 확인\n",
    "                    C:\\Program Files\\Graphviz\n",
    "                    \n",
    "\n",
    "- 환경변수 지정 (소스에서 ) : C:/Program Files/Graphviz/bin/\n",
    "\n",
    "\n",
    "\n",
    "        import os\n",
    "\n",
    "        os.environ['PATH'] += os.pathsep + 'C:/Program Files/Graphviz/bin/'\n"
   ]
  },
  {
   "cell_type": "code",
   "execution_count": 1,
   "metadata": {},
   "outputs": [],
   "source": [
    "# !pip install graphviz"
   ]
  },
  {
   "cell_type": "code",
   "execution_count": 2,
   "metadata": {},
   "outputs": [],
   "source": [
    "# pydotplus 설치\n",
    "# ! pip install pydotplus"
   ]
  },
  {
   "cell_type": "code",
   "execution_count": 2,
   "metadata": {},
   "outputs": [],
   "source": [
    "from sklearn.tree import export_graphviz\n",
    "import pydotplus\n",
    "import graphviz\n",
    "from IPython.display import Image"
   ]
  },
  {
   "cell_type": "code",
   "execution_count": 4,
   "metadata": {
    "scrolled": true
   },
   "outputs": [],
   "source": [
    "# graphviz의 경로를 환경변수 PATH에 등록\n",
    "import os\n",
    "os.environ['PATH'] += os.pathsep + 'C:/Program Files/Graphviz/bin'\n",
    "\n",
    "dot_data = export_graphviz(model, out_file=None, feature_names=iris.feature_names,\n",
    "                          class_names=iris.target_names, filled=True, rounded=True, special_characters=True)\n",
    "\n",
    "        #dot_data = export_graphviz(iris_tree, out_file=None, feature_names=['petal length', 'petal width'],\n",
    "        #                          class_names=iris.target_names, filled=True, rounded=True, special_characters=True)\n",
    "\n",
    "\n",
    "# 그래프 생성\n",
    "# graph = pydotplus.graph_from_dot_data(dot_data)\n",
    "# 그래프를 이미지로 변환\n",
    "# Image(graph.create_png())"
   ]
  },
  {
   "cell_type": "code",
   "execution_count": null,
   "metadata": {},
   "outputs": [],
   "source": []
  }
 ],
 "metadata": {
  "kernelspec": {
   "display_name": "Python 3 (ipykernel)",
   "language": "python",
   "name": "python3"
  },
  "language_info": {
   "codemirror_mode": {
    "name": "ipython",
    "version": 3
   },
   "file_extension": ".py",
   "mimetype": "text/x-python",
   "name": "python",
   "nbconvert_exporter": "python",
   "pygments_lexer": "ipython3",
   "version": "3.9.13"
  }
 },
 "nbformat": 4,
 "nbformat_minor": 2
}
